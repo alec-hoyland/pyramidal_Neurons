{
 "cells": [
  {
   "cell_type": "markdown",
   "metadata": {},
   "source": [
    "# Basic morphological analysis\n",
    "\n",
    "Alex Sutton and Ted Brookings, Marder lab\n",
    "\n",
    "This tutorial assumes you have an xml or nml file traced in Knossos (or similar). The file has a list of nodes (x,y,z,radius) that are identified by a node id (int) and a list of edges connecting the nodes. The code can be easily adapted for other generic file types. Knossos is fast, free, lightweight and easy to use. It's available at www.knossostool.org.\n",
    "\n",
    "Depending on how large your skeleton file is, this process could take a few minutes. The goal is a .hoc file, which consists of nodes that make up segments and a connectivity matrix of those segments. A hoc file is handy because the simulator NEURON (www.neuron.yale.edu) reads them natively and Ted and I developed toolboxes that work easily with hocs. The flow of the pipeline is as follows:\n",
    "\n",
    "1. Convert xml (nml) file to a hoc\n",
    "2. Remove accidental loops \n",
    "3. Scale the coordinates\n",
    "4. Load the file as a geometry object\n",
    "5. Look at example morphological features\n",
    "\n",
    "For this, you'll need:\n",
    "* xml (nml) file\n",
    "* voxel dimensions (of the scan)\n",
    "* this toolbox\n",
    "\n"
   ]
  },
  {
   "cell_type": "code",
   "execution_count": 3,
   "metadata": {
    "collapsed": true
   },
   "outputs": [],
   "source": [
    "# Import packages\n",
    "import sys, os # Access to operating system\n",
    "from XmlToHoc_simple import * # To convert to hoc\n",
    "from pyramidal_nxRemoveLoops import * # Remove loops\n",
    "from knossos_scaleCoords import * # Scale coordinates\n",
    "from pyramidal_readExportedGeometry import * # Load geo object\n",
    "from pyramidal_getProperties import * # Analyze properties"
   ]
  },
  {
   "cell_type": "code",
   "execution_count": 4,
   "metadata": {},
   "outputs": [
    {
     "name": "stdout",
     "output_type": "stream",
     "text": [
      "Quantal distance is 64.25730 \n",
      "Called Refine #3\n"
     ]
    }
   ],
   "source": [
    "# 1. Convert to hoc\n",
    "xmlfile = \"878_067_GM_(Adriane).nml\"\n",
    "new_hocfile = \"878_067_GM_(Adriane).hoc\"\n",
    "_ = SkelHoc(xmlfile, new_hocfile)"
   ]
  },
  {
   "cell_type": "code",
   "execution_count": 5,
   "metadata": {},
   "outputs": [
    {
     "name": "stdout",
     "output_type": "stream",
     "text": [
      "878_067_GM_(Adriane).hoc has 12888 nodes and 13667 edges\n",
      "Should have 12887 edges\n",
      "Predicts ~ 780 loops\n",
      "Actually found 782 loops\n",
      "New graph has 0 loops\n",
      "Num edges: 12885\n"
     ]
    }
   ],
   "source": [
    "# 2. Remove accidental loops \n",
    "#    This uses NetworkX\n",
    "hoc_cleaned = \"878_067_GM_(Adriane)_noloops.hoc\"\n",
    "_ = rewrite_hoc(new_hocfile, hoc_cleaned)"
   ]
  },
  {
   "cell_type": "code",
   "execution_count": 6,
   "metadata": {
    "collapsed": true
   },
   "outputs": [],
   "source": [
    "# 3. Scale the coordinates\n",
    "voxel = [0.732,0.732,0.488] # (x,y,z)\n",
    "load_and_fix(hoc_cleaned, voxel)"
   ]
  },
  {
   "cell_type": "code",
   "execution_count": 7,
   "metadata": {},
   "outputs": [
    {
     "name": "stdout",
     "output_type": "stream",
     "text": [
      "Number of subgraphs = 3 / size of graphs: [38, 149, 6257]\n",
      "Number of subgraphs = 3 / size of graphs: [38, 149, 6257]\n",
      "Removed all but largest subgraphs\n",
      "self._axonBranches is length: 1\n",
      "self._axonBranches is length: 1\n",
      "self._axonBranches is length: 1\n",
      "self._axonBranches is length: 1\n",
      "self._axonBranches is length: 1\n",
      "self._axonBranches is length: 1\n",
      "self._axonBranches is length: 1\n",
      "Soma is filament_999[0].\n",
      "1 axons are:\n",
      "['filament_999[960]']\n",
      "From soma to tips, tortuosity is 2.4 +- 1.9\n"
     ]
    }
   ],
   "source": [
    "# 4. Load the geometry object\n",
    "# I re-named the file to make it a little more compact\n",
    "scaled = \"878_067_GM_(Adriane)_scaled.hoc\"\n",
    "geo = demoReadsilent(scaled)"
   ]
  },
  {
   "cell_type": "markdown",
   "metadata": {},
   "source": [
    "## Geometry object\n",
    "\n",
    "Here we can see that the final geometry object contains 97.1 % of the nodes included in the original object. This geometry object can be easily parsed to extract meaningful morphological features. Below I show how to do a sanity check on the object, how to extract common features, and then how to work with the object to extract an entirely new feature.\n",
    "\n",
    "Ted and I developed all of the algorithms here unless noted otherwise in the code (citations are given in the code as well as in the manuscript, Sutton et al., 2016). Some ideas were taken from L-Measure, NeuroMorpho and other morphology sources; these are also cited in the paper. "
   ]
  },
  {
   "cell_type": "code",
   "execution_count": 8,
   "metadata": {},
   "outputs": [
    {
     "name": "stdout",
     "output_type": "stream",
     "text": [
      "6258 nodes, 6257 segments, 1298 branches\n"
     ]
    }
   ],
   "source": [
    "# We can examine the file for a little to make sure it looks alright\n",
    "print('%i nodes, %i segments, %i branches'\n",
    "      %(len(geo.nodes), len(geo.segments), len(geo.branches)))"
   ]
  },
  {
   "cell_type": "code",
   "execution_count": 9,
   "metadata": {},
   "outputs": [
    {
     "ename": "ModuleNotFoundError",
     "evalue": "No module named 'pretty_plot'",
     "output_type": "error",
     "traceback": [
      "\u001b[0;31m---------------------------------------------------------------------------\u001b[0m",
      "\u001b[0;31mModuleNotFoundError\u001b[0m                       Traceback (most recent call last)",
      "\u001b[0;32m<ipython-input-9-c66ed29d91ce>\u001b[0m in \u001b[0;36m<module>\u001b[0;34m()\u001b[0m\n\u001b[1;32m      5\u001b[0m \u001b[0;31m# https://github.com/acsutt0n/PlottingSuite-python-\u001b[0m\u001b[0;34m\u001b[0m\u001b[0;34m\u001b[0m\u001b[0m\n\u001b[1;32m      6\u001b[0m \u001b[0msys\u001b[0m\u001b[0;34m.\u001b[0m\u001b[0mpath\u001b[0m\u001b[0;34m.\u001b[0m\u001b[0mappend\u001b[0m\u001b[0;34m(\u001b[0m\u001b[0;34m'/home/alex/PlottingSuite-python-/'\u001b[0m\u001b[0;34m)\u001b[0m\u001b[0;34m\u001b[0m\u001b[0m\n\u001b[0;32m----> 7\u001b[0;31m \u001b[0;32mfrom\u001b[0m \u001b[0mpretty_plot\u001b[0m \u001b[0;32mimport\u001b[0m \u001b[0;34m*\u001b[0m\u001b[0;34m\u001b[0m\u001b[0m\n\u001b[0m\u001b[1;32m      8\u001b[0m \u001b[0mget_ipython\u001b[0m\u001b[0;34m(\u001b[0m\u001b[0;34m)\u001b[0m\u001b[0;34m.\u001b[0m\u001b[0mmagic\u001b[0m\u001b[0;34m(\u001b[0m\u001b[0;34m'matplotlib inline'\u001b[0m\u001b[0;34m)\u001b[0m\u001b[0;34m\u001b[0m\u001b[0m\n\u001b[1;32m      9\u001b[0m \u001b[0;34m\u001b[0m\u001b[0m\n",
      "\u001b[0;31mModuleNotFoundError\u001b[0m: No module named 'pretty_plot'"
     ]
    }
   ],
   "source": [
    "# pyramidal_getProperties.py includes functions for many common features\n",
    "# Many of the features are described at length in Sutton et al. (2016).\n",
    "\n",
    "# I have a plotting suite that is available for download at\n",
    "# https://github.com/acsutt0n/PlottingSuite-python-\n",
    "sys.path.append('/home/alex/PlottingSuite-python-/')\n",
    "from pretty_plot import *\n",
    "%matplotlib inline\n",
    "\n",
    "# Branch angles\n",
    "bAngles = branch_angles(geo)\n",
    "circular_hist([bAngles], ['GM'])"
   ]
  },
  {
   "cell_type": "code",
   "execution_count": null,
   "metadata": {},
   "outputs": [],
   "source": [
    "# Tortuosity (computed alongside path length)\n",
    "paths, torts = path_lengths2(geo)\n",
    "violin_spline([paths, [0], [0]], ['GM', 'l', 'l'], \n",
    "              stepfilled=False, title='Path length')\n",
    "violin_spline([torts, [0], [0]], ['GM', 'l', 'l'], \n",
    "              stepfilled=False, title='Path tortuosity')\n",
    "# Here I added some empty sets otherwise IPython Notebook\n",
    "#    fits the width of the page, which looks silly"
   ]
  },
  {
   "cell_type": "markdown",
   "metadata": {},
   "source": [
    "_Available properties in pyramidal_getProperties.py_\n",
    "\n",
    "* Branch angle\n",
    "* Branch point degree (# of daughter branches)\n",
    "* Path length\n",
    "* Path tortuosity\n",
    "* Sholl (use hooser_sholl)\n",
    "* Partition asymmetry (a/symmetry index)\n",
    "* Torque (angle between successive bifurcations)\n",
    "* Neuropil fitting (unbiased space-filling measure)\n",
    "* Branch length, order, distance to soma and position\n",
    "* Inter-tip distance (path and Euclidean)\n",
    "* Fractal dimension (after Caserta et al., 1995)\n",
    "* Soma position\n",
    "* Tip rank (path length relative to nodes of similar Euc. distance)\n",
    "* Rall radius - fitting exponentials\n",
    "\n",
    "_pyramidal_Subtrees.py_\n",
    "\n",
    "I have also developed a subtrees module. Subtree analysis involves all branches that are not included in the paths between the soma and the axons (which I call \"main paths\"). The above analyses and subtree analyses all require geometry objects as their first input. The subtree module also requires Matlab for some of the functions. These are also described in Sutton et al. (2016).\n",
    "\n",
    "## Other analyses\n",
    "\n",
    "If you want to examine a novel morphological feature, doing so is easy with geometry objects. Let's say I want to manually identify the axons and get the path length to each of them; this might be something worth doing. \n",
    "\n",
    "I'll following this process:\n",
    "1. Write a function to manually identify axons\n",
    "2. Find the segment object for each axon\n",
    "3. Write a function that returns the axon lengths for each supplied axon"
   ]
  },
  {
   "cell_type": "code",
   "execution_count": null,
   "metadata": {},
   "outputs": [],
   "source": [
    "def idAxons(geo, retax=False, show=True):\n",
    "  \"\"\"\n",
    "  Identify axons manually\n",
    "  \"\"\"\n",
    "  btags = []\n",
    "  for b in geo.branches:\n",
    "    for k in b.tags:\n",
    "      if k.split('_')[0] != 'filament':\n",
    "        btags.append([geo.branches.index(b),k])\n",
    "  if show:\n",
    "    for b in btags:\n",
    "      if b[1] == 'Axon':\n",
    "        c0, c1 = geo.branches[b[0]].coordAt(0), geo.branches[b[0]].coordAt(1)\n",
    "        thiscol = color=np.random.random(3)\n",
    "        plt.plot([c0[0], c1[0]], [c0[1], c1[1]], color=thiscol, lw=3, alpha=0.6)\n",
    "        plt.text(c1[0], c1[1], b[0], fontsize=10, color=thiscol)\n",
    "    for s in geo.segments:\n",
    "      c_ = s.coordAt(0)\n",
    "      plt.plot(c_[0], c_[1], '.', color='gray', alpha=0.4)\n",
    "    plt.show()\n",
    "  if retax:\n",
    "    return [j[0] for j in btags]\n",
    "  return\n",
    "\n",
    "idAxons(geo)"
   ]
  },
  {
   "cell_type": "markdown",
   "metadata": {},
   "source": [
    "If I wanted to, I could develop this further so a larger variety of potential axons would be identified. I would also use a snapshot of the original scan to make sure what I called an axon was correct. In fact, I do all of this in the module _adriane2.py_, but here we'll assume these axons are good enough. \n",
    "\n",
    "I want 375 and 475, which are indices of geo.branches. So simply calling geo.branches[375] gives me the branch I think is an axon. I want to find the farthest segment in that branch, and then find all the segments in the path to that axon.\n"
   ]
  },
  {
   "cell_type": "code",
   "execution_count": null,
   "metadata": {},
   "outputs": [],
   "source": [
    "def lastSegment(geo, ax_ind):\n",
    "    # Find the last segment of that axon\n",
    "    pDF = PathDistanceFinder(geo, geo.soma)\n",
    "    seg_cands = [s for s in geo.segments if s.name in\n",
    "                      geo.branches[ax_ind].tags]\n",
    "    dist0 = pDF.distanceTo(seg_cands[0])\n",
    "    dist1 = pDF.distanceTo(seg_cands[-1])\n",
    "    if dist0 > dist1:\n",
    "        print('Axon %i path: %.2f um' %(ax_ind, dist0))\n",
    "        return seg_cands[0]\n",
    "    else:\n",
    "        print('Axon %i path: %.2f um' %(ax_ind, dist1))\n",
    "        return seg_cands[-1]\n",
    "\n",
    "# Now, get the farthest segments and their distances for the axons\n",
    "ax1 = lastSegment(geo, 375)\n",
    "ax2 = lastSegment(geo, 475)"
   ]
  },
  {
   "cell_type": "code",
   "execution_count": null,
   "metadata": {
    "collapsed": true
   },
   "outputs": [],
   "source": [
    "# As measured from the soma."
   ]
  },
  {
   "cell_type": "code",
   "execution_count": null,
   "metadata": {
    "collapsed": true
   },
   "outputs": [],
   "source": []
  },
  {
   "cell_type": "code",
   "execution_count": null,
   "metadata": {
    "collapsed": true
   },
   "outputs": [],
   "source": []
  }
 ],
 "metadata": {
  "kernelspec": {
   "display_name": "Python 3",
   "language": "python",
   "name": "python3"
  },
  "language_info": {
   "codemirror_mode": {
    "name": "ipython",
    "version": 3
   },
   "file_extension": ".py",
   "mimetype": "text/x-python",
   "name": "python",
   "nbconvert_exporter": "python",
   "pygments_lexer": "ipython3",
   "version": "3.6.3"
  }
 },
 "nbformat": 4,
 "nbformat_minor": 1
}
